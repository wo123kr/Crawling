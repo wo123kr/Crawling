{
 "cells": [
  {
   "cell_type": "code",
   "execution_count": 1,
   "metadata": {},
   "outputs": [],
   "source": [
    "from selenium import webdriver\n",
    "from selenium.webdriver.common.by import By\n",
    "from selenium.webdriver.common.keys import Keys\n",
    "#from selenium.common.exceptions import NoSuchElementException\n",
    "import chromedriver_autoinstaller\n",
    "from bs4 import BeautifulSoup\n",
    "from tqdm import tqdm\n",
    "import pandas as pd\n",
    "import re\n",
    "import os\n",
    "import random\n",
    "import datetime\n",
    "import time\n",
    "from selenium.common.exceptions import TimeoutException # 타임아웃 에러"
   ]
  },
  {
   "cell_type": "code",
   "execution_count": 2,
   "metadata": {},
   "outputs": [
    {
     "name": "stdout",
     "output_type": "stream",
     "text": [
      "chrom driver is insatlled: ./108/chromedriver.exe\n"
     ]
    }
   ],
   "source": [
    "# 크롬 드라이버 설치 및 버전 확인\n",
    "# 체크 후 설치, 만약 설치되어 있으면 설치 안함\n",
    "chrome_ver = chromedriver_autoinstaller.get_chrome_version().split('.')[0]\n",
    "driver_path = f'./{chrome_ver}/chromedriver.exe'\n",
    "if os.path.exists(driver_path):\n",
    "    print(f\"chrom driver is insatlled: {driver_path}\")\n",
    "else:\n",
    "    print(f\"install the chrome driver(ver: {chrome_ver})\")\n",
    "    chromedriver_autoinstaller.install(True)\n",
    "    \n",
    "# '시스템에 부착된 장치가 작동하지 않습니다' 에러 방지\n",
    "options = webdriver.ChromeOptions()\n",
    "options.add_experimental_option(\"excludeSwitches\", [\"enable-logging\"])\n",
    "options.add_argument('user-agent=Mozilla/5.0 (Windows NT 10.0; Win64; x64) AppleWebKit/537.36 (KHTML, like Gecko) Chrome/108.0.0.0 Safari/537.36') \n",
    "options.add_argument('--no-sandbox') # 사이트 차단 방지\n",
    "options.add_argument('--disable-gpu') # gpu 사용 안함\n",
    "options.add_argument(\"--disable-dev-shm-usage\") # 메모리 사용량 제한\n",
    "options.add_argument('--window-size=1920,1080') # 창 크기\n",
    "options.add_argument('--headless') # 창이 안뜨게 하는 옵션\n",
    "options.add_argument('--disable-extensions') # 확장 프로그램 사용 안함\n",
    "options.add_argument('--disable-blink-features=AutomationControlled') # 자동화 방지\n",
    "\n"
   ]
  },
  {
   "cell_type": "code",
   "execution_count": 3,
   "metadata": {},
   "outputs": [],
   "source": [
    "df = pd.read_excel('D:/workspace/웹 크롤링 프로젝트/LISTLY_TRIAL_20230116.xlsx', sheet_name='group')\n",
    "df.rename(columns={'LABEL-1':'url'}, inplace=True)"
   ]
  },
  {
   "cell_type": "code",
   "execution_count": 4,
   "metadata": {},
   "outputs": [],
   "source": [
    "business = [] #업종\n",
    "item = [] #품목\n",
    "accountname2 = [] # 기업명\n",
    "ceo = [] # 대표자\n",
    "foundation_year = [] # 설립연도\n",
    "employees_cnt = [] # 직원수\n",
    "patent = [] # 특허\n",
    "telephone = [] # 전화\n",
    "patent_detail = [] # 특허상세\n",
    "address = [] # 주소\n",
    "email = [] # 이메일\n",
    "homepage = [] # 홈페이지\n",
    "biz_area = [] # 사업영역"
   ]
  },
  {
   "cell_type": "code",
   "execution_count": 6,
   "metadata": {},
   "outputs": [
    {
     "name": "stderr",
     "output_type": "stream",
     "text": [
      "  0%|          | 0/1059 [00:00<?, ?it/s]C:\\Users\\bigdata\\AppData\\Local\\Temp\\ipykernel_4320\\211501900.py:2: DeprecationWarning: executable_path has been deprecated, please pass in a Service object\n",
      "  driver = webdriver.Chrome(executable_path=driver_path, options=options)\n",
      "100%|██████████| 1059/1059 [1:28:00<00:00,  4.99s/it]\n"
     ]
    }
   ],
   "source": [
    "for i in tqdm(range(len(df['url']))): # i는 0부터 df['url']의 길이만큼 반복한다.\n",
    "    driver = webdriver.Chrome(executable_path=driver_path, options=options)\n",
    "    driver.get(df['url'][i])\n",
    "    driver.implicitly_wait(10) # 브라우저가 로딩되는 시간을 기다려준다. (최대 10초)\n",
    "    d\n",
    "    # 업종  \n",
    "    try : \n",
    "        business_df = driver.find_element(By.XPATH, '//*[@id=\"business\"]').text # 업종을 가져온다.\n",
    "        business.append(business_df) # business 리스트에 업종을 추가한다.\n",
    "    except:\n",
    "        # 만약 가져오지 못하면 빈칸을 넣어준다.\n",
    "        business.append('')\n",
    "        \n",
    "    # 품목\n",
    "    try :\n",
    "        item_df = driver.find_element(By.XPATH, '//*[@id=\"item\"]').text # 품목을 가져온다.\n",
    "        item.append(item_df) # item 리스트에 품목을 추가한다.\n",
    "    except:\n",
    "        # 만약 가져오지 못하면 빈칸을 넣어준다.\n",
    "        item.append('')\n",
    "\n",
    "    # 기업명\n",
    "    try : \n",
    "        accountname2_df = driver.find_element(By.XPATH, '//*[@id=\"accountname2\"]').text # 기업명을 가져온다.\n",
    "        accountname2.append(accountname2_df) # accountname2 리스트에 기업명을 추가한다.\n",
    "    except:\n",
    "        # 만약 가져오지 못하면 빈칸을 넣어준다.\n",
    "        accountname2.append('')\n",
    "        \n",
    "    # 대표자\n",
    "    try :\n",
    "        ceo_df = driver.find_element(By.XPATH, '//*[@id=\"ceo\"]').text # 대표자를 가져온다.\n",
    "        ceo.append(ceo_df) # ceo 리스트에 대표자를 추가한다.\n",
    "    except:\n",
    "        ceo.append('')\n",
    "        \n",
    "    # 설립연도\n",
    "    try :\n",
    "        foundation_year_df = driver.find_element(By.XPATH, '//*[@id=\"foundation_year\"]').text # 설립연도를 가져온다.\n",
    "        foundation_year.append(foundation_year_df) # foundation_year 리스트에 설립연도를 추가한다.\n",
    "    except:\n",
    "        foundation_year.append('')\n",
    "        \n",
    "    # 직원수\n",
    "    try :\n",
    "        employees_cnt_df = driver.find_element(By.XPATH, '//*[@id=\"employees_cnt\"]').text # 직원수를 가져온다.\n",
    "        employees_cnt.append(employees_cnt_df) # employees_cnt 리스트에 직원수를 추가한다.\n",
    "    except:\n",
    "        employees_cnt.append('')\n",
    "        \n",
    "    # 특허\n",
    "    try :\n",
    "        patent_df = driver.find_element(By.XPATH, '//*[@id=\"patent\"]').text # 특허를 가져온다.\n",
    "        patent.append(patent_df) # patent 리스트에 특허를 추가한다.\n",
    "    except:\n",
    "        patent.append('')\n",
    "        \n",
    "    # 전화\n",
    "    try :\n",
    "        telephone_df = driver.find_element(By.XPATH, '//*[@id=\"telephone\"]').text # 전화를 가져온다.\n",
    "        telephone.append(telephone_df) # telephone 리스트에 전화를 추가한다.\n",
    "    except:\n",
    "        telephone.append('')\n",
    "\n",
    "    # 특허상세 \n",
    "    try :\n",
    "        patent_detail_df = driver.find_element(By.XPATH, '//*[@id=\"patent_detail\"]').text # 특허상세를 가져온다.\n",
    "        patent_detail.append(patent_detail_df) # patent_detail 리스트에 특허상세를 추가한다.\n",
    "    except:\n",
    "        patent_detail.append('')\n",
    "        \n",
    "    # 주소\n",
    "    try :\n",
    "        address_df = driver.find_element(By.XPATH, '//*[@id=\"address\"]').text # 주소를 가져온다.\n",
    "        address.append(address_df) # address 리스트에 주소를 추가한다.\n",
    "    except:\n",
    "        address.append('')\n",
    "\n",
    "    # 이메일\n",
    "    try :\n",
    "        email_df = driver.find_element(By.XPATH, '//*[@id=\"email\"]').text # 이메일을 가져온다.\n",
    "        email.append(email_df) # email 리스트에 이메일을 추가한다.\n",
    "    except: \n",
    "        email.append('')\n",
    "        \n",
    "    # 홈페이지\n",
    "    try :\n",
    "        homepage_df = driver.find_element(By.XPATH, '//*[@id=\"homepage\"]').text # 홈페이지를 가져온다.\n",
    "        homepage.append(homepage_df) # homepage 리스트에 홈페이지를 추가한다.\n",
    "    except:\n",
    "        homepage.append('')\n",
    "        \n",
    "    # 사업영역\n",
    "    try : \n",
    "        biz_area_df = driver.find_element(By.XPATH, '//*[@id=\"biz_area\"]').text # 사업영역을 가져온다.\n",
    "        biz_area.append(biz_area_df) # business_area 리스트에 사업영역을 추가한다.\n",
    "    except:\n",
    "        biz_area.append('')\n"
   ]
  },
  {
   "cell_type": "code",
   "execution_count": 7,
   "metadata": {},
   "outputs": [],
   "source": [
    "export_df = pd.DataFrame({'업종':business, '품목':item, '기업명':accountname2, '대표자':ceo, '설립연도':foundation_year, '직원수':employees_cnt, '특허':patent, '전화':telephone, '특허상세':patent_detail, '주소':address, '이메일':email, '홈페이지':homepage, '사업영역':biz_area})\n",
    "export_df.to_csv('export_df.csv', index=False, encoding='utf-8-sig')"
   ]
  }
 ],
 "metadata": {
  "kernelspec": {
   "display_name": "Python 3",
   "language": "python",
   "name": "python3"
  },
  "language_info": {
   "codemirror_mode": {
    "name": "ipython",
    "version": 3
   },
   "file_extension": ".py",
   "mimetype": "text/x-python",
   "name": "python",
   "nbconvert_exporter": "python",
   "pygments_lexer": "ipython3",
   "version": "3.11.1 (tags/v3.11.1:a7a450f, Dec  6 2022, 19:58:39) [MSC v.1934 64 bit (AMD64)]"
  },
  "orig_nbformat": 4,
  "vscode": {
   "interpreter": {
    "hash": "273822e0efeefbea8d2f4e5fee0d0c348ded0fb362650f05e6b3b771f0fc7742"
   }
  }
 },
 "nbformat": 4,
 "nbformat_minor": 2
}
